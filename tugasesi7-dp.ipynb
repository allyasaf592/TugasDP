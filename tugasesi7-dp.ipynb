{
 "cells": [
  {
   "cell_type": "markdown",
   "id": "dae269f1",
   "metadata": {},
   "source": [
    "1.Buatlah program utuk membalik sebuah kalimat, misal;\n",
    "\n",
    "Input : \"LUPA-LUPA INGAT\"\n",
    "\n",
    "Output : \"TAGNI APUL-APUL\""
   ]
  },
  {
   "cell_type": "code",
   "execution_count": 1,
   "id": "ee804d76",
   "metadata": {},
   "outputs": [
    {
     "name": "stdout",
     "output_type": "stream",
     "text": [
      "Masukan kalimat : LUPA-LUPA INGAT\n",
      "Jika dibalik:  TAGNI APUL-APUL\n"
     ]
    }
   ],
   "source": [
    "kalimat = input('Masukan kalimat : ') \n",
    "def reverse(kalimat): \n",
    "    str = \"\" \n",
    "    for i in kalimat: \n",
    "        str = i + str \n",
    "    return str \n",
    "print (f'Jika dibalik: ',end=' ') \n",
    "print (reverse(kalimat)) "
   ]
  },
  {
   "cell_type": "markdown",
   "id": "f7c42d4a",
   "metadata": {},
   "source": [
    "2.Buatlah program untuk menghitung jumlah masing-masing huruf vokal, dengan output seperti berikut ini: Kalimat : \"Universitas Nusa Putera\"\n",
    "\n",
    "Output :\n",
    "\n",
    "Jumlah huruf A = 3\n",
    "\n",
    "Jumlah huruf I = 2\n",
    "\n",
    "Jumlah huruf U = 3\n",
    "\n",
    "Jumlah huruf E = 2\n",
    "\n",
    "Jumlah huruf O = 0\n",
    "\n",
    "Total jumlah huruf vokal = 10"
   ]
  },
  {
   "cell_type": "code",
   "execution_count": 2,
   "id": "26a39494",
   "metadata": {},
   "outputs": [
    {
     "name": "stdout",
     "output_type": "stream",
     "text": [
      "Kalimat: UNIVERSITAS NUSA PUTERA\n",
      "  Jumlah huruf A = 3\n",
      "  Jumlah huruf I = 2\n",
      "  Jumlah huruf U = 3\n",
      "  Jumlah huruf E = 2\n",
      "  Jumlah huruf O = 0\n",
      "Total jumlah huruf vokal = 10\n"
     ]
    }
   ],
   "source": [
    "teks = 'Universitas Nusa Putera'.upper()\n",
    "total_huruf_vokal = 0\n",
    "huruf_vokal = {\n",
    "  'A': 0,\n",
    "  'I': 0,\n",
    "  'U': 0,\n",
    "  'E': 0,\n",
    "  'O': 0\n",
    "}\n",
    "for huruf in teks:\n",
    "    if huruf in ['A', 'I', 'U', 'E',  'O']:\n",
    "        huruf_vokal[huruf] += 1\n",
    "        total_huruf_vokal += 1\n",
    "print(f'Kalimat: {teks}')\n",
    "print(f\"\"\"\\\n",
    "  Jumlah huruf A = {huruf_vokal['A']}\n",
    "  Jumlah huruf I = {huruf_vokal['I']}\n",
    "  Jumlah huruf U = {huruf_vokal['U']}\n",
    "  Jumlah huruf E = {huruf_vokal['E']}\n",
    "  Jumlah huruf O = {huruf_vokal['O']}\\\n",
    "\"\"\")\n",
    "print(f'Total jumlah huruf vokal = {total_huruf_vokal}')"
   ]
  },
  {
   "cell_type": "code",
   "execution_count": null,
   "id": "9c02a1ec",
   "metadata": {},
   "outputs": [],
   "source": []
  }
 ],
 "metadata": {
  "kernelspec": {
   "display_name": "Python 3 (ipykernel)",
   "language": "python",
   "name": "python3"
  },
  "language_info": {
   "codemirror_mode": {
    "name": "ipython",
    "version": 3
   },
   "file_extension": ".py",
   "mimetype": "text/x-python",
   "name": "python",
   "nbconvert_exporter": "python",
   "pygments_lexer": "ipython3",
   "version": "3.9.12"
  }
 },
 "nbformat": 4,
 "nbformat_minor": 5
}

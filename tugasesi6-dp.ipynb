{
 "cells": [
  {
   "cell_type": "code",
   "execution_count": 2,
   "id": "185cb7d3",
   "metadata": {},
   "outputs": [
    {
     "name": "stdout",
     "output_type": "stream",
     "text": [
      "Masukan umur anak (tahun): 5\n",
      "Masukan tinggi anak (CM): 80\n",
      "harga untuk anak dengan umur 5 tahun dengan tinggi 80 cm adalah 40000 rupiah\n"
     ]
    }
   ],
   "source": [
    "umur = int(input(\"Masukan umur anak (tahun): \")) \n",
    "tinggi = int(input(\"Masukan tinggi anak (CM): \")) \n",
    "harga = 0 \n",
    "textHarga = \"harga untuk anak dengan umur {} tahun dengan tinggi {} cm adalah {} rupiah\" \n",
    "\n",
    "if (umur < 2 ):\n",
    "    print(\"Dilarang masuk\") \n",
    "elif (umur < 4): \n",
    "    harga = 30_000 \n",
    "    if (tinggi > 70):\n",
    "        harga += 10_000 \n",
    "    print(textHarga.format(umur, tinggi, harga)) \n",
    "elif (umur < 7): \n",
    "    harga = 40_000 \n",
    "    if (tinggi > 120): \n",
    "        harga += 15_000 \n",
    "    print(textHarga.format(umur, tinggi, harga)) \n",
    "elif (umur < 10): \n",
    "    harga = 50_000 \n",
    "    if (umur > 7 and tinggi > 150): \n",
    "        harga += 20_000 \n",
    "    print(textHarga.format(umur, tinggi, harga)) \n",
    "else: \n",
    "    harga = 80_000 \n",
    "    print(textHarga.format(umur, tinggi, harga)) "
   ]
  },
  {
   "cell_type": "code",
   "execution_count": 3,
   "id": "e886a712",
   "metadata": {},
   "outputs": [
    {
     "name": "stdout",
     "output_type": "stream",
     "text": [
      "Apakah kamu melakukan olahraga lari? jawab ya/tidak : ya\n",
      "Berapa menit? 5\n",
      "Apakah kamu melakukan olahraga push-up? jawab ya/tidak : ya\n",
      "Berapa menit? 10\n",
      "Apakah kamu melakukan olahraga plank? jawab ya/tidak : ya\n",
      "Berapa menit? 2\n",
      "\n",
      "Kalori yang terbakar dari tubuhmu adalah 103 kalori\n"
     ]
    }
   ],
   "source": [
    "kalori = 0 \n",
    "\n",
    "lari = input(\"Apakah kamu melakukan olahraga lari? jawab ya/tidak : \") == 'ya' \n",
    "if (lari): \n",
    "    menit = int(input(\"Berapa menit? \")) \n",
    "    kalori += menit*(60/5) \n",
    "pushUp = input(\"Apakah kamu melakukan olahraga push-up? jawab ya/tidak : \") == 'ya' \n",
    "if (pushUp):\n",
    "    menit = int(input(\"Berapa menit? \")) \n",
    "    kalori += menit*(200/60) \n",
    "plank = input(\"Apakah kamu melakukan olahraga plank? jawab ya/tidak : \") == 'ya' \n",
    "if (plank): \n",
    "    menit = int(input(\"Berapa menit? \")) \n",
    "    kalori += menit*5 \n",
    "    \n",
    "kalori = round(kalori) \n",
    "\n",
    "if (kalori > 0): \n",
    "    print(f\"\\nKalori yang terbakar dari tubuhmu adalah {kalori} kalori\") \n",
    "else: \n",
    "    print(\"\\nTidak ada kalori yang terbakar, kamu tidak berolahraga : \")"
   ]
  }
 ],
 "metadata": {
  "kernelspec": {
   "display_name": "Python 3 (ipykernel)",
   "language": "python",
   "name": "python3"
  },
  "language_info": {
   "codemirror_mode": {
    "name": "ipython",
    "version": 3
   },
   "file_extension": ".py",
   "mimetype": "text/x-python",
   "name": "python",
   "nbconvert_exporter": "python",
   "pygments_lexer": "ipython3",
   "version": "3.9.12"
  }
 },
 "nbformat": 4,
 "nbformat_minor": 5
}

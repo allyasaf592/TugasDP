{
 "cells": [
  {
   "cell_type": "code",
   "execution_count": 4,
   "id": "f6967829",
   "metadata": {},
   "outputs": [
    {
     "name": "stdout",
     "output_type": "stream",
     "text": [
      "Masukan nama : Allya Saffira\n",
      "Masukan program studi: Teknik Informatika \n",
      "Masukan kelas : TI 22 H\n",
      "Masukan hobi: Bermain Panahan\n",
      "Nama mahasiswa: Allya Saffira\n",
      "Program studi: Teknik Informatika \n",
      "kelas: TI 22 H\n",
      "hobi: Bermain Panahan\n"
     ]
    }
   ],
   "source": [
    "nama = input(\"Masukan nama : \")\n",
    "prodi = input(\"Masukan program studi: \")\n",
    "kelas = input(\"Masukan kelas: \")\n",
    "hobi = input(\"Masukan hobi: \")\n",
    "\n",
    "\n",
    "print(\"Nama mahasiswa: {nama}\".format(nama = nama))\n",
    "print(\"Program studi: {prodi}\".format(prodi = prodi))\n",
    "print(\"kelas: {kelas}\".format(kelas = kelas))\n",
    "print(\"hobi: {hobi}\".format(hobi = hobi))"
   ]
  },
  {
   "cell_type": "code",
   "execution_count": 5,
   "id": "36464f17",
   "metadata": {},
   "outputs": [
    {
     "name": "stdout",
     "output_type": "stream",
     "text": [
      "putra nusa\n",
      "NIVERSITAS NSA PTRA SKABMI\n",
      "SUKABUMI PUTRA NUSA UNIVERSITAS\n",
      "UNPS\n",
      "TAS SAPU BUMI\n"
     ]
    }
   ],
   "source": [
    "kalimat = \"UNIVERSITAS NUSA PUTRA SUKABUMI\"\n",
    "listKata = kalimat.split(\" \");\n",
    "\n",
    "a = \" \".join([listKata[2].lower(), listKata[1].lower()])\n",
    "b = kalimat[1:13] + kalimat[14:18] + kalimat[19:24] + kalimat[25:28] + kalimat[29:31]\n",
    "c = \" \".join(reversed(listKata))\n",
    "d = listKata[0][0] + listKata[1][0] + listKata[2][0] + listKata[3][0]\n",
    "e = \" \".join([listKata[0][-3:], listKata[1][-2:] + listKata[2][:2], listKata[3][-4:]])\n",
    "\n",
    "print(a) # output: putra nusa\n",
    "print(b) # output: NIVERSITAS NSA PTRA SKABMI\n",
    "print(c) # output: SUKABUMI PUTRA NUSA UNIVERSITAS\n",
    "print(d) # output: UNPS\n",
    "print(e) # output: TAS SAPU BUMI"
   ]
  }
 ],
 "metadata": {
  "kernelspec": {
   "display_name": "Python 3 (ipykernel)",
   "language": "python",
   "name": "python3"
  },
  "language_info": {
   "codemirror_mode": {
    "name": "ipython",
    "version": 3
   },
   "file_extension": ".py",
   "mimetype": "text/x-python",
   "name": "python",
   "nbconvert_exporter": "python",
   "pygments_lexer": "ipython3",
   "version": "3.9.12"
  }
 },
 "nbformat": 4,
 "nbformat_minor": 5
}
